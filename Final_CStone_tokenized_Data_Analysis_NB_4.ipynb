{
 "cells": [
  {
   "cell_type": "code",
   "execution_count": 374,
   "id": "df6da63c",
   "metadata": {},
   "outputs": [],
   "source": [
    "import pandas as pd\n",
    "import seaborn as sns\n",
    "import matplotlib.pyplot as plt\n",
    "import numpy as np\n",
    "sns.set(style=\"darkgrid\")"
   ]
  },
  {
   "cell_type": "code",
   "execution_count": 2,
   "id": "edbf05f0",
   "metadata": {},
   "outputs": [],
   "source": [
    "df = pd.read_csv(r\"./clean_data_lmtd_stmd.csv\", low_memory=False)\n"
   ]
  },
  {
   "cell_type": "code",
   "execution_count": 3,
   "id": "36760a54",
   "metadata": {},
   "outputs": [
    {
     "data": {
      "text/html": [
       "<div>\n",
       "<style scoped>\n",
       "    .dataframe tbody tr th:only-of-type {\n",
       "        vertical-align: middle;\n",
       "    }\n",
       "\n",
       "    .dataframe tbody tr th {\n",
       "        vertical-align: top;\n",
       "    }\n",
       "\n",
       "    .dataframe thead th {\n",
       "        text-align: right;\n",
       "    }\n",
       "</style>\n",
       "<table border=\"1\" class=\"dataframe\">\n",
       "  <thead>\n",
       "    <tr style=\"text-align: right;\">\n",
       "      <th></th>\n",
       "      <th>date_created</th>\n",
       "      <th>user_description</th>\n",
       "      <th>user_created</th>\n",
       "      <th>user_followers</th>\n",
       "      <th>user_friends</th>\n",
       "      <th>user_favourites</th>\n",
       "      <th>user_verified</th>\n",
       "      <th>date</th>\n",
       "      <th>text</th>\n",
       "      <th>hashtags</th>\n",
       "      <th>...</th>\n",
       "      <th>month_year</th>\n",
       "      <th>parsed_hashtags</th>\n",
       "      <th>includes_abortion</th>\n",
       "      <th>locations</th>\n",
       "      <th>clean_location</th>\n",
       "      <th>clean_text</th>\n",
       "      <th>more_clean_text</th>\n",
       "      <th>blob_sentiment</th>\n",
       "      <th>clean_hashtags</th>\n",
       "      <th>lemd_stmd</th>\n",
       "    </tr>\n",
       "  </thead>\n",
       "  <tbody>\n",
       "    <tr>\n",
       "      <th>0</th>\n",
       "      <td>7/30/21 23:53</td>\n",
       "      <td>Sociafy is an influencer-based content discove...</td>\n",
       "      <td>9/30/11 5:59</td>\n",
       "      <td>36219</td>\n",
       "      <td>181</td>\n",
       "      <td>930</td>\n",
       "      <td>False</td>\n",
       "      <td>7/30/21 23:53</td>\n",
       "      <td>O‚Äö√Ñ√¥Reilly predicts THIS is What DOOMS Bid...</td>\n",
       "      <td>['politics', 'videos']</td>\n",
       "      <td>...</td>\n",
       "      <td>21-Jul</td>\n",
       "      <td>['politics', 'videos']</td>\n",
       "      <td>no</td>\n",
       "      <td>united states</td>\n",
       "      <td>USA</td>\n",
       "      <td>OReilly predicts THIS is What DOOMS Bidens ree...</td>\n",
       "      <td>OReilly predicts DOOMS Bidens reelection chance</td>\n",
       "      <td>neutral</td>\n",
       "      <td>politics videos</td>\n",
       "      <td>oreilli predict doom biden reelect chanc</td>\n",
       "    </tr>\n",
       "    <tr>\n",
       "      <th>1</th>\n",
       "      <td>7/30/21 23:51</td>\n",
       "      <td>Home of Crypto Communities. $ATMOS \\n\\nhttps:/...</td>\n",
       "      <td>2/9/17 23:15</td>\n",
       "      <td>2426</td>\n",
       "      <td>1104</td>\n",
       "      <td>8173</td>\n",
       "      <td>False</td>\n",
       "      <td>7/30/21 23:51</td>\n",
       "      <td>Corruption in Politics\\n#blog #politics \\nhttp...</td>\n",
       "      <td>['blog', 'politics']</td>\n",
       "      <td>...</td>\n",
       "      <td>21-Jul</td>\n",
       "      <td>['blog', 'politics']</td>\n",
       "      <td>no</td>\n",
       "      <td>united states</td>\n",
       "      <td>USA</td>\n",
       "      <td>Corruption in Politics</td>\n",
       "      <td>Corruption Politics</td>\n",
       "      <td>neutral</td>\n",
       "      <td>blog politics</td>\n",
       "      <td>corrupt polit</td>\n",
       "    </tr>\n",
       "    <tr>\n",
       "      <th>2</th>\n",
       "      <td>7/30/21 23:50</td>\n",
       "      <td>Developer, Artist, Investor, Entrepreneur, Eff...</td>\n",
       "      <td>7/9/09 4:07</td>\n",
       "      <td>495</td>\n",
       "      <td>2681</td>\n",
       "      <td>6930</td>\n",
       "      <td>False</td>\n",
       "      <td>7/30/21 23:50</td>\n",
       "      <td>90% of US drone strikes kill civilians. An ope...</td>\n",
       "      <td>['politics', 'justice', 'war']</td>\n",
       "      <td>...</td>\n",
       "      <td>21-Jul</td>\n",
       "      <td>['politics', 'justice', 'war']</td>\n",
       "      <td>no</td>\n",
       "      <td>california</td>\n",
       "      <td>CA</td>\n",
       "      <td>90 of US drone strikes kill civilians An opera...</td>\n",
       "      <td>90 US drone strikes kill civilians operator le...</td>\n",
       "      <td>neutral</td>\n",
       "      <td>politics justice war</td>\n",
       "      <td>90 us drone strike kill civilian oper leak evi...</td>\n",
       "    </tr>\n",
       "    <tr>\n",
       "      <th>3</th>\n",
       "      <td>7/30/21 23:49</td>\n",
       "      <td>Comprehensive, up-to-date news coverage, aggre...</td>\n",
       "      <td>7/24/17 7:39</td>\n",
       "      <td>340</td>\n",
       "      <td>114</td>\n",
       "      <td>1</td>\n",
       "      <td>False</td>\n",
       "      <td>7/30/21 23:49</td>\n",
       "      <td>100,000-Year-Old Fossil of Largest-Ever Vampir...</td>\n",
       "      <td>['news', 'covid', 'usa', 'canada', 'uk', 'inst...</td>\n",
       "      <td>...</td>\n",
       "      <td>21-Jul</td>\n",
       "      <td>['news', 'covid', 'usa', 'canada', 'uk', 'inst...</td>\n",
       "      <td>no</td>\n",
       "      <td>united states</td>\n",
       "      <td>USA</td>\n",
       "      <td>100000YearOld Fossil of LargestEver Vampire Ba...</td>\n",
       "      <td>100000YearOld Fossil LargestEver Vampire Bat F...</td>\n",
       "      <td>neutral</td>\n",
       "      <td>news covid usa canada uk instagram love corona...</td>\n",
       "      <td>100000yearold fossil largestev vampir bat found</td>\n",
       "    </tr>\n",
       "    <tr>\n",
       "      <th>4</th>\n",
       "      <td>7/30/21 23:49</td>\n",
       "      <td>Gay Progressive Patriot. #NYC's the greatest c...</td>\n",
       "      <td>6/20/08 18:32</td>\n",
       "      <td>6451</td>\n",
       "      <td>2806</td>\n",
       "      <td>4257</td>\n",
       "      <td>False</td>\n",
       "      <td>7/30/21 23:49</td>\n",
       "      <td>Via @RawStory: 'People will die': Congress bla...</td>\n",
       "      <td>['politics', 'trump', 'corruption']</td>\n",
       "      <td>...</td>\n",
       "      <td>21-Jul</td>\n",
       "      <td>['politics', 'trump', 'corruption']</td>\n",
       "      <td>no</td>\n",
       "      <td>new york</td>\n",
       "      <td>NEW YORK</td>\n",
       "      <td>Via People will die Congress blasted for faili...</td>\n",
       "      <td>People die Congress blasted failing eviction m...</td>\n",
       "      <td>negative</td>\n",
       "      <td>politics trump corruption</td>\n",
       "      <td>peopl die congress blast fail evict moratorium...</td>\n",
       "    </tr>\n",
       "    <tr>\n",
       "      <th>...</th>\n",
       "      <td>...</td>\n",
       "      <td>...</td>\n",
       "      <td>...</td>\n",
       "      <td>...</td>\n",
       "      <td>...</td>\n",
       "      <td>...</td>\n",
       "      <td>...</td>\n",
       "      <td>...</td>\n",
       "      <td>...</td>\n",
       "      <td>...</td>\n",
       "      <td>...</td>\n",
       "      <td>...</td>\n",
       "      <td>...</td>\n",
       "      <td>...</td>\n",
       "      <td>...</td>\n",
       "      <td>...</td>\n",
       "      <td>...</td>\n",
       "      <td>...</td>\n",
       "      <td>...</td>\n",
       "      <td>...</td>\n",
       "      <td>...</td>\n",
       "    </tr>\n",
       "    <tr>\n",
       "      <th>72797</th>\n",
       "      <td>8/15/22 22:06</td>\n",
       "      <td>Gay Progressive Patriot. #NYC's the greatest c...</td>\n",
       "      <td>6/20/08 18:32</td>\n",
       "      <td>6343</td>\n",
       "      <td>2786</td>\n",
       "      <td>4226</td>\n",
       "      <td>False</td>\n",
       "      <td>8/15/22 22:06</td>\n",
       "      <td>Via @RawStory: Trump doesn't think Merrick Gar...</td>\n",
       "      <td>['politics', 'trump', 'corruption']</td>\n",
       "      <td>...</td>\n",
       "      <td>22-Aug</td>\n",
       "      <td>['politics', 'trump', 'corruption']</td>\n",
       "      <td>no</td>\n",
       "      <td>new york</td>\n",
       "      <td>NEW YORK</td>\n",
       "      <td>Via Trump doesnt think Merrick Garland will ch...</td>\n",
       "      <td>Trump doesnt think Merrick Garland charge aide...</td>\n",
       "      <td>negative</td>\n",
       "      <td>politics trump corruption</td>\n",
       "      <td>trump doesnt think merrick garland charg aid f...</td>\n",
       "    </tr>\n",
       "    <tr>\n",
       "      <th>72798</th>\n",
       "      <td>8/15/22 22:01</td>\n",
       "      <td>Runs @GeekAlabama; #Aspie proud! #ASD.  I‚Äö√Ñ...</td>\n",
       "      <td>4/27/09 20:24</td>\n",
       "      <td>4668</td>\n",
       "      <td>5122</td>\n",
       "      <td>112650</td>\n",
       "      <td>False</td>\n",
       "      <td>8/15/22 22:01</td>\n",
       "      <td>It's Okay To Be Woke: Congrats to Alabama, whe...</td>\n",
       "      <td>['video', 'politics', 'liberal', 'liberallogic...</td>\n",
       "      <td>...</td>\n",
       "      <td>22-Aug</td>\n",
       "      <td>['video', 'politics', 'liberal', 'liberallogic...</td>\n",
       "      <td>no</td>\n",
       "      <td>alabama</td>\n",
       "      <td>AL</td>\n",
       "      <td>Its Okay To Be Woke Congrats to Alabama where ...</td>\n",
       "      <td>Okay Woke Congrats Alabama Republicans support...</td>\n",
       "      <td>neutral</td>\n",
       "      <td>video politics liberal liberallogic woke woken...</td>\n",
       "      <td>okay woke congrat alabama republican support e...</td>\n",
       "    </tr>\n",
       "    <tr>\n",
       "      <th>72799</th>\n",
       "      <td>8/15/22 22:01</td>\n",
       "      <td>Board Certified | CEO @NeighborhoodPsy Writer ...</td>\n",
       "      <td>3/21/08 4:29</td>\n",
       "      <td>3397</td>\n",
       "      <td>2163</td>\n",
       "      <td>3541</td>\n",
       "      <td>False</td>\n",
       "      <td>8/15/22 22:01</td>\n",
       "      <td>What constitutes \"Everyday Evil\"?\\n\\nPsycholog...</td>\n",
       "      <td>['psychology', 'evil', 'politics', 'psychiatry...</td>\n",
       "      <td>...</td>\n",
       "      <td>22-Aug</td>\n",
       "      <td>['psychology', 'evil', 'politics', 'psychiatry...</td>\n",
       "      <td>no</td>\n",
       "      <td>new york</td>\n",
       "      <td>NEW YORK</td>\n",
       "      <td>What constitutes Everyday Evil Psychologists p...</td>\n",
       "      <td>constitutes Everyday Evil Psychologists presen...</td>\n",
       "      <td>negative</td>\n",
       "      <td>psychology evil politics psychiatry law humani...</td>\n",
       "      <td>constitut everyday evil psychologist present c...</td>\n",
       "    </tr>\n",
       "    <tr>\n",
       "      <th>72800</th>\n",
       "      <td>8/15/22 21:59</td>\n",
       "      <td>Israel Cruz is running for U.S. Senate in the ...</td>\n",
       "      <td>10/13/21 18:18</td>\n",
       "      <td>1159</td>\n",
       "      <td>1469</td>\n",
       "      <td>1459</td>\n",
       "      <td>False</td>\n",
       "      <td>8/15/22 21:59</td>\n",
       "      <td>@DrOz I know you won't as that would mean you ...</td>\n",
       "      <td>['PA', 'Politics', 'Fetterman', 'StopIDL']</td>\n",
       "      <td>...</td>\n",
       "      <td>22-Aug</td>\n",
       "      <td>['PA', 'Politics', 'Fetterman', 'StopIDL']</td>\n",
       "      <td>no</td>\n",
       "      <td>pennsylvania</td>\n",
       "      <td>PENNSYLVANIA</td>\n",
       "      <td>I know you wont as that would mean you will ha...</td>\n",
       "      <td>know wont would mean answer questions never an...</td>\n",
       "      <td>neutral</td>\n",
       "      <td>PA Politics Fetterman StopIDL</td>\n",
       "      <td>know wont would mean answer question never ans...</td>\n",
       "    </tr>\n",
       "    <tr>\n",
       "      <th>72801</th>\n",
       "      <td>8/15/22 21:57</td>\n",
       "      <td>Profile run by Lucky (the monster) (ze/hir/hir...</td>\n",
       "      <td>6/4/21 23:31</td>\n",
       "      <td>69</td>\n",
       "      <td>739</td>\n",
       "      <td>665</td>\n",
       "      <td>False</td>\n",
       "      <td>8/15/22 21:57</td>\n",
       "      <td>if you have a #demonicmachines pedal, you shou...</td>\n",
       "      <td>['demonicmachines', 'politics', 'thismachineki...</td>\n",
       "      <td>...</td>\n",
       "      <td>22-Aug</td>\n",
       "      <td>['demonicmachines', 'politics', 'thismachineki...</td>\n",
       "      <td>no</td>\n",
       "      <td>california</td>\n",
       "      <td>CA</td>\n",
       "      <td>if you have a pedal you should know that it sa...</td>\n",
       "      <td>pedal know says PCB San Diego California</td>\n",
       "      <td>neutral</td>\n",
       "      <td>demonicmachines politics thismachinekillsfascists</td>\n",
       "      <td>pedal know say pcb san diego california</td>\n",
       "    </tr>\n",
       "  </tbody>\n",
       "</table>\n",
       "<p>72802 rows × 21 columns</p>\n",
       "</div>"
      ],
      "text/plain": [
       "        date_created                                   user_description  \\\n",
       "0      7/30/21 23:53  Sociafy is an influencer-based content discove...   \n",
       "1      7/30/21 23:51  Home of Crypto Communities. $ATMOS \\n\\nhttps:/...   \n",
       "2      7/30/21 23:50  Developer, Artist, Investor, Entrepreneur, Eff...   \n",
       "3      7/30/21 23:49  Comprehensive, up-to-date news coverage, aggre...   \n",
       "4      7/30/21 23:49  Gay Progressive Patriot. #NYC's the greatest c...   \n",
       "...              ...                                                ...   \n",
       "72797  8/15/22 22:06  Gay Progressive Patriot. #NYC's the greatest c...   \n",
       "72798  8/15/22 22:01  Runs @GeekAlabama; #Aspie proud! #ASD.  I‚Äö√Ñ...   \n",
       "72799  8/15/22 22:01  Board Certified | CEO @NeighborhoodPsy Writer ...   \n",
       "72800  8/15/22 21:59  Israel Cruz is running for U.S. Senate in the ...   \n",
       "72801  8/15/22 21:57  Profile run by Lucky (the monster) (ze/hir/hir...   \n",
       "\n",
       "         user_created  user_followers  user_friends  user_favourites  \\\n",
       "0        9/30/11 5:59           36219           181              930   \n",
       "1        2/9/17 23:15            2426          1104             8173   \n",
       "2         7/9/09 4:07             495          2681             6930   \n",
       "3        7/24/17 7:39             340           114                1   \n",
       "4       6/20/08 18:32            6451          2806             4257   \n",
       "...               ...             ...           ...              ...   \n",
       "72797   6/20/08 18:32            6343          2786             4226   \n",
       "72798   4/27/09 20:24            4668          5122           112650   \n",
       "72799    3/21/08 4:29            3397          2163             3541   \n",
       "72800  10/13/21 18:18            1159          1469             1459   \n",
       "72801    6/4/21 23:31              69           739              665   \n",
       "\n",
       "       user_verified           date  \\\n",
       "0              False  7/30/21 23:53   \n",
       "1              False  7/30/21 23:51   \n",
       "2              False  7/30/21 23:50   \n",
       "3              False  7/30/21 23:49   \n",
       "4              False  7/30/21 23:49   \n",
       "...              ...            ...   \n",
       "72797          False  8/15/22 22:06   \n",
       "72798          False  8/15/22 22:01   \n",
       "72799          False  8/15/22 22:01   \n",
       "72800          False  8/15/22 21:59   \n",
       "72801          False  8/15/22 21:57   \n",
       "\n",
       "                                                    text  \\\n",
       "0      O‚Äö√Ñ√¥Reilly predicts THIS is What DOOMS Bid...   \n",
       "1      Corruption in Politics\\n#blog #politics \\nhttp...   \n",
       "2      90% of US drone strikes kill civilians. An ope...   \n",
       "3      100,000-Year-Old Fossil of Largest-Ever Vampir...   \n",
       "4      Via @RawStory: 'People will die': Congress bla...   \n",
       "...                                                  ...   \n",
       "72797  Via @RawStory: Trump doesn't think Merrick Gar...   \n",
       "72798  It's Okay To Be Woke: Congrats to Alabama, whe...   \n",
       "72799  What constitutes \"Everyday Evil\"?\\n\\nPsycholog...   \n",
       "72800  @DrOz I know you won't as that would mean you ...   \n",
       "72801  if you have a #demonicmachines pedal, you shou...   \n",
       "\n",
       "                                                hashtags  ...  month_year  \\\n",
       "0                                 ['politics', 'videos']  ...      21-Jul   \n",
       "1                                   ['blog', 'politics']  ...      21-Jul   \n",
       "2                         ['politics', 'justice', 'war']  ...      21-Jul   \n",
       "3      ['news', 'covid', 'usa', 'canada', 'uk', 'inst...  ...      21-Jul   \n",
       "4                    ['politics', 'trump', 'corruption']  ...      21-Jul   \n",
       "...                                                  ...  ...         ...   \n",
       "72797                ['politics', 'trump', 'corruption']  ...      22-Aug   \n",
       "72798  ['video', 'politics', 'liberal', 'liberallogic...  ...      22-Aug   \n",
       "72799  ['psychology', 'evil', 'politics', 'psychiatry...  ...      22-Aug   \n",
       "72800         ['PA', 'Politics', 'Fetterman', 'StopIDL']  ...      22-Aug   \n",
       "72801  ['demonicmachines', 'politics', 'thismachineki...  ...      22-Aug   \n",
       "\n",
       "                                         parsed_hashtags includes_abortion  \\\n",
       "0                                 ['politics', 'videos']                no   \n",
       "1                                   ['blog', 'politics']                no   \n",
       "2                         ['politics', 'justice', 'war']                no   \n",
       "3      ['news', 'covid', 'usa', 'canada', 'uk', 'inst...                no   \n",
       "4                    ['politics', 'trump', 'corruption']                no   \n",
       "...                                                  ...               ...   \n",
       "72797                ['politics', 'trump', 'corruption']                no   \n",
       "72798  ['video', 'politics', 'liberal', 'liberallogic...                no   \n",
       "72799  ['psychology', 'evil', 'politics', 'psychiatry...                no   \n",
       "72800         ['PA', 'Politics', 'Fetterman', 'StopIDL']                no   \n",
       "72801  ['demonicmachines', 'politics', 'thismachineki...                no   \n",
       "\n",
       "           locations clean_location  \\\n",
       "0      united states            USA   \n",
       "1      united states            USA   \n",
       "2         california             CA   \n",
       "3      united states            USA   \n",
       "4           new york       NEW YORK   \n",
       "...              ...            ...   \n",
       "72797       new york       NEW YORK   \n",
       "72798        alabama             AL   \n",
       "72799       new york       NEW YORK   \n",
       "72800   pennsylvania   PENNSYLVANIA   \n",
       "72801     california             CA   \n",
       "\n",
       "                                              clean_text  \\\n",
       "0      OReilly predicts THIS is What DOOMS Bidens ree...   \n",
       "1                                 Corruption in Politics   \n",
       "2      90 of US drone strikes kill civilians An opera...   \n",
       "3      100000YearOld Fossil of LargestEver Vampire Ba...   \n",
       "4      Via People will die Congress blasted for faili...   \n",
       "...                                                  ...   \n",
       "72797  Via Trump doesnt think Merrick Garland will ch...   \n",
       "72798  Its Okay To Be Woke Congrats to Alabama where ...   \n",
       "72799  What constitutes Everyday Evil Psychologists p...   \n",
       "72800  I know you wont as that would mean you will ha...   \n",
       "72801  if you have a pedal you should know that it sa...   \n",
       "\n",
       "                                         more_clean_text blob_sentiment  \\\n",
       "0        OReilly predicts DOOMS Bidens reelection chance        neutral   \n",
       "1                                    Corruption Politics        neutral   \n",
       "2      90 US drone strikes kill civilians operator le...        neutral   \n",
       "3      100000YearOld Fossil LargestEver Vampire Bat F...        neutral   \n",
       "4      People die Congress blasted failing eviction m...       negative   \n",
       "...                                                  ...            ...   \n",
       "72797  Trump doesnt think Merrick Garland charge aide...       negative   \n",
       "72798  Okay Woke Congrats Alabama Republicans support...        neutral   \n",
       "72799  constitutes Everyday Evil Psychologists presen...       negative   \n",
       "72800  know wont would mean answer questions never an...        neutral   \n",
       "72801           pedal know says PCB San Diego California        neutral   \n",
       "\n",
       "                                          clean_hashtags  \\\n",
       "0                                        politics videos   \n",
       "1                                          blog politics   \n",
       "2                                   politics justice war   \n",
       "3      news covid usa canada uk instagram love corona...   \n",
       "4                              politics trump corruption   \n",
       "...                                                  ...   \n",
       "72797                          politics trump corruption   \n",
       "72798  video politics liberal liberallogic woke woken...   \n",
       "72799  psychology evil politics psychiatry law humani...   \n",
       "72800                      PA Politics Fetterman StopIDL   \n",
       "72801  demonicmachines politics thismachinekillsfascists   \n",
       "\n",
       "                                               lemd_stmd  \n",
       "0               oreilli predict doom biden reelect chanc  \n",
       "1                                          corrupt polit  \n",
       "2      90 us drone strike kill civilian oper leak evi...  \n",
       "3        100000yearold fossil largestev vampir bat found  \n",
       "4      peopl die congress blast fail evict moratorium...  \n",
       "...                                                  ...  \n",
       "72797  trump doesnt think merrick garland charg aid f...  \n",
       "72798  okay woke congrat alabama republican support e...  \n",
       "72799  constitut everyday evil psychologist present c...  \n",
       "72800  know wont would mean answer question never ans...  \n",
       "72801            pedal know say pcb san diego california  \n",
       "\n",
       "[72802 rows x 21 columns]"
      ]
     },
     "execution_count": 3,
     "metadata": {},
     "output_type": "execute_result"
    }
   ],
   "source": [
    "df"
   ]
  },
  {
   "cell_type": "code",
   "execution_count": 369,
   "id": "4a095690",
   "metadata": {},
   "outputs": [
    {
     "data": {
      "text/plain": [
       "'O‚Äö√Ñ√¥Reilly predicts THIS is What DOOMS Biden‚Äö√Ñ√¥s reelection chance - via: @glennbeck https://t.co/VHWiJWEK48 #politics #videos https://t.co/A1KLPNWfEU'"
      ]
     },
     "execution_count": 369,
     "metadata": {},
     "output_type": "execute_result"
    }
   ],
   "source": [
    "df.iloc[0][\"text\"]"
   ]
  },
  {
   "cell_type": "code",
   "execution_count": 4,
   "id": "04407dd1",
   "metadata": {},
   "outputs": [
    {
     "data": {
      "text/plain": [
       "date_created            0\n",
       "user_description     1118\n",
       "user_created            0\n",
       "user_followers          0\n",
       "user_friends            0\n",
       "user_favourites         0\n",
       "user_verified           0\n",
       "date                    0\n",
       "text                    0\n",
       "hashtags                0\n",
       "is_retweet              0\n",
       "month_year              0\n",
       "parsed_hashtags         0\n",
       "includes_abortion       0\n",
       "locations               0\n",
       "clean_location          0\n",
       "clean_text              9\n",
       "more_clean_text       150\n",
       "blob_sentiment          0\n",
       "clean_hashtags          1\n",
       "lemd_stmd             150\n",
       "dtype: int64"
      ]
     },
     "execution_count": 4,
     "metadata": {},
     "output_type": "execute_result"
    }
   ],
   "source": [
    "df.isnull().sum()"
   ]
  },
  {
   "cell_type": "code",
   "execution_count": 5,
   "id": "100a2bcc",
   "metadata": {},
   "outputs": [],
   "source": [
    "df.dropna(subset=[\"clean_hashtags\"], inplace=True)"
   ]
  },
  {
   "cell_type": "code",
   "execution_count": 6,
   "id": "917bf50d",
   "metadata": {},
   "outputs": [],
   "source": [
    "df.dropna(subset=[\"lemd_stmd\"], inplace=True)"
   ]
  },
  {
   "cell_type": "code",
   "execution_count": 7,
   "id": "08a3246b",
   "metadata": {},
   "outputs": [
    {
     "data": {
      "text/plain": [
       "date_created            0\n",
       "user_description     1115\n",
       "user_created            0\n",
       "user_followers          0\n",
       "user_friends            0\n",
       "user_favourites         0\n",
       "user_verified           0\n",
       "date                    0\n",
       "text                    0\n",
       "hashtags                0\n",
       "is_retweet              0\n",
       "month_year              0\n",
       "parsed_hashtags         0\n",
       "includes_abortion       0\n",
       "locations               0\n",
       "clean_location          0\n",
       "clean_text              0\n",
       "more_clean_text         0\n",
       "blob_sentiment          0\n",
       "clean_hashtags          0\n",
       "lemd_stmd               0\n",
       "dtype: int64"
      ]
     },
     "execution_count": 7,
     "metadata": {},
     "output_type": "execute_result"
    }
   ],
   "source": [
    "df.isnull().sum()"
   ]
  },
  {
   "cell_type": "code",
   "execution_count": 8,
   "id": "51a1a894",
   "metadata": {},
   "outputs": [
    {
     "data": {
      "text/plain": [
       "<72651x35742 sparse matrix of type '<class 'numpy.int64'>'\n",
       "\twith 707185 stored elements in Compressed Sparse Row format>"
      ]
     },
     "execution_count": 8,
     "metadata": {},
     "output_type": "execute_result"
    }
   ],
   "source": [
    "from sklearn.feature_extraction.text import CountVectorizer\n",
    "\n",
    "count_vectorizer = CountVectorizer()\n",
    "vector_matrix = count_vectorizer.fit_transform(df[\"lemd_stmd\"])\n",
    "vector_matrix\n"
   ]
  },
  {
   "cell_type": "code",
   "execution_count": 9,
   "id": "825f0cca",
   "metadata": {},
   "outputs": [
    {
     "data": {
      "text/plain": [
       "array(['000', '00001', '0000489', ..., 'zvichidaro', 'zz', 'zzz'],\n",
       "      dtype=object)"
      ]
     },
     "execution_count": 9,
     "metadata": {},
     "output_type": "execute_result"
    }
   ],
   "source": [
    "tokens = count_vectorizer.get_feature_names_out()\n",
    "tokens"
   ]
  },
  {
   "cell_type": "code",
   "execution_count": 10,
   "id": "cb99493e",
   "metadata": {
    "scrolled": true
   },
   "outputs": [
    {
     "data": {
      "text/plain": [
       "array([[0, 0, 0, ..., 0, 0, 0],\n",
       "       [0, 0, 0, ..., 0, 0, 0],\n",
       "       [0, 0, 0, ..., 0, 0, 0],\n",
       "       ...,\n",
       "       [0, 0, 0, ..., 0, 0, 0],\n",
       "       [0, 0, 0, ..., 0, 0, 0],\n",
       "       [0, 0, 0, ..., 0, 0, 0]], dtype=int64)"
      ]
     },
     "execution_count": 10,
     "metadata": {},
     "output_type": "execute_result"
    }
   ],
   "source": [
    "vector_matrix.toarray()"
   ]
  },
  {
   "cell_type": "code",
   "execution_count": 12,
   "id": "b8787497",
   "metadata": {},
   "outputs": [],
   "source": [
    "from sklearn.metrics.pairwise import cosine_similarity"
   ]
  },
  {
   "cell_type": "code",
   "execution_count": 11,
   "id": "fffe88a7",
   "metadata": {},
   "outputs": [],
   "source": [
    "def create_dataframe(matrix, tokens, df):\n",
    "    doc_names = df[\"locations\"]\n",
    "    data = pd.DataFrame(data=matrix, index=doc_names, columns=tokens)\n",
    "    return data\n"
   ]
  },
  {
   "cell_type": "code",
   "execution_count": 12,
   "id": "719aae74",
   "metadata": {},
   "outputs": [],
   "source": [
    "data = create_dataframe(vector_matrix.toarray(),tokens, df)"
   ]
  },
  {
   "cell_type": "code",
   "execution_count": 59,
   "id": "6ff06fcc",
   "metadata": {},
   "outputs": [
    {
     "name": "stderr",
     "output_type": "stream",
     "text": [
      "[nltk_data] Downloading package words to\n",
      "[nltk_data]     C:\\Users\\Chowd\\AppData\\Roaming\\nltk_data...\n",
      "[nltk_data]   Package words is already up-to-date!\n"
     ]
    },
    {
     "data": {
      "text/plain": [
       "True"
      ]
     },
     "execution_count": 59,
     "metadata": {},
     "output_type": "execute_result"
    }
   ],
   "source": [
    "nltk.download('words')\n",
    "import nltk"
   ]
  },
  {
   "cell_type": "code",
   "execution_count": null,
   "id": "675712c3",
   "metadata": {},
   "outputs": [],
   "source": [
    "data.loc['new york', 'trump'].sum()"
   ]
  },
  {
   "cell_type": "code",
   "execution_count": 371,
   "id": "325ce146",
   "metadata": {},
   "outputs": [],
   "source": [
    "top_20_pairs_ny = data.loc['new york'].sum().sort_values(ascending=False).nlargest(150)\n"
   ]
  },
  {
   "cell_type": "code",
   "execution_count": 372,
   "id": "a4311c28",
   "metadata": {},
   "outputs": [
    {
     "data": {
      "text/plain": [
       "<function matplotlib.pyplot.show(close=None, block=None)>"
      ]
     },
     "execution_count": 372,
     "metadata": {},
     "output_type": "execute_result"
    },
    {
     "data": {
      "image/png": "[encoded data removed]",
      "text/plain": [
       "<Figure size 640x480 with 1 Axes>"
      ]
     },
     "metadata": {},
     "output_type": "display_data"
    }
   ],
   "source": [
    "top_20_pairs_ny[:20].plot(kind=\"bar\")\n",
    "plt.title(\"Top 20 used words in Tweets in New York\")\n",
    "plt.xlabel(\"Root words\")\n",
    "plt.ylabel(\"Counts\")\n",
    "plt.show"
   ]
  },
  {
   "cell_type": "code",
   "execution_count": 190,
   "id": "0ec3b5c1",
   "metadata": {},
   "outputs": [
    {
     "data": {
      "text/plain": [
       "<function matplotlib.pyplot.show(close=None, block=None)>"
      ]
     },
     "execution_count": 190,
     "metadata": {},
     "output_type": "execute_result"
    },
    {
     "data": {
      "image/png": "[encoded data removed]",
      "text/plain": [
       "<Figure size 640x480 with 1 Axes>"
      ]
     },
     "metadata": {},
     "output_type": "display_data"
    }
   ],
   "source": [
    "top_20_pairs_fl = data.loc['texas'].sum().sort_values(ascending=False).nlargest(150)\n",
    "top_20_pairs_fl[:20].plot(kind=\"bar\")\n",
    "plt.title(\"Top 20 used words in Tweets in Florida\")\n",
    "plt.xlabel(\"Root words\")\n",
    "plt.ylabel(\"Counts\")\n",
    "plt.show"
   ]
  },
  {
   "cell_type": "code",
   "execution_count": 31,
   "id": "a436fa08",
   "metadata": {},
   "outputs": [],
   "source": [
    "top_20_pairs_ca = data.loc['california'].sum().sort_values(ascending=False).nlargest(150)"
   ]
  },
  {
   "cell_type": "code",
   "execution_count": 75,
   "id": "d588ea86",
   "metadata": {},
   "outputs": [
    {
     "data": {
      "text/plain": [
       "<function matplotlib.pyplot.show(close=None, block=None)>"
      ]
     },
     "execution_count": 75,
     "metadata": {},
     "output_type": "execute_result"
    },
    {
     "data": {
      "image/png": "[encoded data removed]",
      "text/plain": [
       "<Figure size 640x480 with 1 Axes>"
      ]
     },
     "metadata": {},
     "output_type": "display_data"
    }
   ],
   "source": [
    "top_20_pairs_ca[:20].plot(kind=\"bar\")\n",
    "plt.title(\"Top 20 used words in Tweets in California\")\n",
    "plt.xlabel(\"Root words\")\n",
    "plt.ylabel(\"Counts\")\n",
    "plt.show"
   ]
  },
  {
   "cell_type": "code",
   "execution_count": 74,
   "id": "95772932",
   "metadata": {},
   "outputs": [
    {
     "data": {
      "text/plain": [
       "<function matplotlib.pyplot.show(close=None, block=None)>"
      ]
     },
     "execution_count": 74,
     "metadata": {},
     "output_type": "execute_result"
    },
    {
     "data": {
      "image/png": "[encoded data removed]",
      "text/plain": [
       "<Figure size 640x480 with 1 Axes>"
      ]
     },
     "metadata": {},
     "output_type": "display_data"
    }
   ],
   "source": [
    "top_20_pairs_tx = data.loc['texas'].sum().sort_values(ascending=False).nlargest(150)\n",
    "top_20_pairs_tx[:20].plot(kind=\"bar\")\n",
    "plt.title(\"Top 20 used words in Tweets in Texas\")\n",
    "plt.xlabel(\"Root words\")\n",
    "plt.ylabel(\"Counts\")\n",
    "plt.show"
   ]
  },
  {
   "cell_type": "code",
   "execution_count": 37,
   "id": "e11c517c",
   "metadata": {},
   "outputs": [
    {
     "data": {
      "text/plain": [
       "dtype('int64')"
      ]
     },
     "execution_count": 37,
     "metadata": {},
     "output_type": "execute_result"
    }
   ],
   "source": [
    "top_20_pairs_tx.dtype"
   ]
  },
  {
   "cell_type": "code",
   "execution_count": 127,
   "id": "b16f3cb9",
   "metadata": {
    "scrolled": true
   },
   "outputs": [
    {
     "name": "stdout",
     "output_type": "stream",
     "text": [
      "polit\n",
      "new\n",
      "biden\n",
      "say\n",
      "get\n"
     ]
    }
   ],
   "source": [
    "for i in top_20_pairs_tx.index[:20]:\n",
    "    if i in top_20_pairs_ca[:20]:\n",
    "        if i in top_20_pairs_ny[:20]:\n",
    "            print(i)"
   ]
  },
  {
   "cell_type": "code",
   "execution_count": 67,
   "id": "409d9fa4",
   "metadata": {},
   "outputs": [
    {
     "data": {
      "text/plain": [
       "<function matplotlib.pyplot.show(close=None, block=None)>"
      ]
     },
     "execution_count": 67,
     "metadata": {},
     "output_type": "execute_result"
    },
    {
     "data": {
      "image/png": "[encoded data removed]",
      "text/plain": [
       "<Figure size 640x480 with 1 Axes>"
      ]
     },
     "metadata": {},
     "output_type": "display_data"
    }
   ],
   "source": [
    "top_20_pairs_ma = data.loc['massachusetts'].sum().sort_values(ascending=False).nlargest(150)\n",
    "top_20_pairs_ma[:20].plot(kind=\"bar\")\n",
    "plt.title(\"Top 20 used words in Tweets in Massachusetts\")\n",
    "plt.xlabel(\"Root words\")\n",
    "plt.ylabel(\"Counts\")\n",
    "plt.show"
   ]
  },
  {
   "cell_type": "code",
   "execution_count": 64,
   "id": "9e175295",
   "metadata": {},
   "outputs": [
    {
     "data": {
      "text/plain": [
       "<function matplotlib.pyplot.show(close=None, block=None)>"
      ]
     },
     "execution_count": 64,
     "metadata": {},
     "output_type": "execute_result"
    },
    {
     "data": {
      "image/png": "[encoded data removed]",
      "text/plain": [
       "<Figure size 640x480 with 1 Axes>"
      ]
     },
     "metadata": {},
     "output_type": "display_data"
    }
   ],
   "source": [
    "top_20_pairs_nj = data.loc['new jersey'].sum().sort_values(ascending=False).nlargest(150)\n",
    "top_20_pairs_nj[:20].plot(kind=\"bar\")\n",
    "plt.title(\"Top 20 used words in Tweets in New Jersy\")\n",
    "plt.show"
   ]
  },
  {
   "cell_type": "code",
   "execution_count": 128,
   "id": "35672848",
   "metadata": {},
   "outputs": [],
   "source": [
    "common_ma_nj = []\n",
    "for i in top_20_pairs_ma.index[:20]:\n",
    "    if i in top_20_pairs_nj[:20]:\n",
    "        common_ma_nj.append(i)\n",
    "        "
   ]
  },
  {
   "cell_type": "code",
   "execution_count": 129,
   "id": "2ad1770d",
   "metadata": {},
   "outputs": [
    {
     "data": {
      "text/plain": [
       "9"
      ]
     },
     "execution_count": 129,
     "metadata": {},
     "output_type": "execute_result"
    }
   ],
   "source": [
    "len(common_ma_nj)"
   ]
  },
  {
   "cell_type": "code",
   "execution_count": 130,
   "id": "09e22d70",
   "metadata": {},
   "outputs": [
    {
     "data": {
      "text/plain": [
       "['amp', 'polit', 'new', 'read', 'biden', 'peopl', 'us', 'get', 'say']"
      ]
     },
     "execution_count": 130,
     "metadata": {},
     "output_type": "execute_result"
    }
   ],
   "source": [
    "common_ma_nj"
   ]
  },
  {
   "cell_type": "code",
   "execution_count": 78,
   "id": "fdb16283",
   "metadata": {},
   "outputs": [
    {
     "data": {
      "text/plain": [
       "<function matplotlib.pyplot.show(close=None, block=None)>"
      ]
     },
     "execution_count": 78,
     "metadata": {},
     "output_type": "execute_result"
    },
    {
     "data": {
      "image/png": "[encoded data removed]",
      "text/plain": [
       "<Figure size 640x480 with 1 Axes>"
      ]
     },
     "metadata": {},
     "output_type": "display_data"
    }
   ],
   "source": [
    "top_20_pairs_id = data.loc['idaho'].sum().sort_values(ascending=False).nlargest(150)\n",
    "top_20_pairs_id[:20].plot(kind=\"bar\")\n",
    "plt.title(\"Top 20 used words in Tweets in Idaho\")\n",
    "plt.xlabel(\"Root words\")\n",
    "plt.ylabel(\"Counts\")\n",
    "plt.show"
   ]
  },
  {
   "cell_type": "code",
   "execution_count": 133,
   "id": "93e50abf",
   "metadata": {},
   "outputs": [
    {
     "data": {
      "text/plain": [
       "<function matplotlib.pyplot.show(close=None, block=None)>"
      ]
     },
     "execution_count": 133,
     "metadata": {},
     "output_type": "execute_result"
    },
    {
     "data": {
      "image/png": "[encoded data removed]",
      "text/plain": [
       "<Figure size 640x480 with 1 Axes>"
      ]
     },
     "metadata": {},
     "output_type": "display_data"
    }
   ],
   "source": [
    "top_20_pairs_ky = data.loc['kentucky'].sum().sort_values(ascending=False).nlargest(150)\n",
    "top_20_pairs_ky[:20].plot(kind=\"bar\")\n",
    "plt.title(\"Top 20 used words in Tweets in Kentucky\")\n",
    "plt.xlabel(\"Root words\")\n",
    "plt.ylabel(\"Counts\")\n",
    "plt.show"
   ]
  },
  {
   "cell_type": "code",
   "execution_count": 131,
   "id": "d59c8a64",
   "metadata": {},
   "outputs": [],
   "source": [
    "common_id_nj = []\n",
    "for i in top_20_pairs_id.index[:20]:\n",
    "    if i in top_20_pairs_nj[:20]:\n",
    "        common_id_nj.append(i)"
   ]
  },
  {
   "cell_type": "code",
   "execution_count": 132,
   "id": "b433ead2",
   "metadata": {},
   "outputs": [
    {
     "data": {
      "text/plain": [
       "['polit', 'get', 'new', 'say', 'peopl', 'amp', 'go']"
      ]
     },
     "execution_count": 132,
     "metadata": {},
     "output_type": "execute_result"
    }
   ],
   "source": [
    "common_id_nj"
   ]
  },
  {
   "cell_type": "code",
   "execution_count": 91,
   "id": "3f20eaa4",
   "metadata": {},
   "outputs": [
    {
     "data": {
      "text/plain": [
       "19"
      ]
     },
     "execution_count": 91,
     "metadata": {},
     "output_type": "execute_result"
    }
   ],
   "source": [
    "len(common_id_nj)"
   ]
  },
  {
   "cell_type": "code",
   "execution_count": 93,
   "id": "844c94d4",
   "metadata": {},
   "outputs": [
    {
     "data": {
      "text/plain": [
       "<function matplotlib.pyplot.show(close=None, block=None)>"
      ]
     },
     "execution_count": 93,
     "metadata": {},
     "output_type": "execute_result"
    },
    {
     "data": {
      "image/png": "[encoded data removed]",
      "text/plain": [
       "<Figure size 640x480 with 1 Axes>"
      ]
     },
     "metadata": {},
     "output_type": "display_data"
    }
   ],
   "source": [
    "top_20_pairs_usa = data.loc['united states'].sum().sort_values(ascending=False).nlargest(150)\n",
    "top_20_pairs_usa[:20].plot(kind=\"bar\")\n",
    "plt.title(\"Top 20 used words in Tweets in anywhere in the US\")\n",
    "plt.xlabel(\"Root words\")\n",
    "plt.ylabel(\"Counts\")\n",
    "plt.show"
   ]
  },
  {
   "cell_type": "code",
   "execution_count": 191,
   "id": "dbf3cf19",
   "metadata": {},
   "outputs": [
    {
     "data": {
      "text/plain": [
       "<function matplotlib.pyplot.show(close=None, block=None)>"
      ]
     },
     "execution_count": 191,
     "metadata": {},
     "output_type": "execute_result"
    },
    {
     "data": {
      "image/png": "[encoded data removed]",
      "text/plain": [
       "<Figure size 640x480 with 1 Axes>"
      ]
     },
     "metadata": {},
     "output_type": "display_data"
    }
   ],
   "source": [
    "top_20_pairs_or = data.loc['oregon'].sum().sort_values(ascending=False).nlargest(150)\n",
    "top_20_pairs_or[:20].plot(kind=\"bar\")\n",
    "plt.title(\"Top 20 used words in Tweets in Oregon\")\n",
    "plt.xlabel(\"Root words\")\n",
    "plt.ylabel(\"Counts\")\n",
    "plt.show"
   ]
  },
  {
   "cell_type": "code",
   "execution_count": 165,
   "id": "d6b2fee1",
   "metadata": {},
   "outputs": [
    {
     "data": {
      "text/plain": [
       "<function matplotlib.pyplot.show(close=None, block=None)>"
      ]
     },
     "execution_count": 165,
     "metadata": {},
     "output_type": "execute_result"
    },
    {
     "data": {
      "image/png": "[encoded data removed]",
      "text/plain": [
       "<Figure size 640x480 with 1 Axes>"
      ]
     },
     "metadata": {},
     "output_type": "display_data"
    }
   ],
   "source": [
    "top_20_pairs_ga = data.loc['georgia'].sum().sort_values(ascending=False).nlargest(150)\n",
    "top_20_pairs_ga[:20].plot(kind=\"bar\")\n",
    "plt.title(\"Top 20 used words in Tweets in Georgia\")\n",
    "plt.xlabel(\"Root words\")\n",
    "plt.ylabel(\"Counts\")\n",
    "plt.show"
   ]
  },
  {
   "cell_type": "code",
   "execution_count": null,
   "id": "ae940747",
   "metadata": {},
   "outputs": [],
   "source": [
    "top_20_words_ny[\"maga\"]"
   ]
  },
  {
   "cell_type": "code",
   "execution_count": 156,
   "id": "a8add65c",
   "metadata": {},
   "outputs": [
    {
     "data": {
      "text/plain": [
       "248"
      ]
     },
     "execution_count": 156,
     "metadata": {},
     "output_type": "execute_result"
    }
   ],
   "source": [
    "top_20_pairs_ny[\"maga\"]"
   ]
  },
  {
   "cell_type": "code",
   "execution_count": 158,
   "id": "15d34202",
   "metadata": {},
   "outputs": [],
   "source": [
    "# top_20_pairs_tx[\"maga\"]"
   ]
  },
  {
   "cell_type": "code",
   "execution_count": 159,
   "id": "85877528",
   "metadata": {},
   "outputs": [
    {
     "data": {
      "text/plain": [
       "294"
      ]
     },
     "execution_count": 159,
     "metadata": {},
     "output_type": "execute_result"
    }
   ],
   "source": [
    "top_20_pairs_ny[\"ukrain\"]"
   ]
  },
  {
   "cell_type": "code",
   "execution_count": 160,
   "id": "8aafd01c",
   "metadata": {},
   "outputs": [
    {
     "data": {
      "text/plain": [
       "89"
      ]
     },
     "execution_count": 160,
     "metadata": {},
     "output_type": "execute_result"
    }
   ],
   "source": [
    "top_20_pairs_tx[\"ukrain\"]"
   ]
  },
  {
   "cell_type": "code",
   "execution_count": 161,
   "id": "94cfbb88",
   "metadata": {},
   "outputs": [
    {
     "data": {
      "text/plain": [
       "355"
      ]
     },
     "execution_count": 161,
     "metadata": {},
     "output_type": "execute_result"
    }
   ],
   "source": [
    "top_20_pairs_ny[\"covid\"]"
   ]
  },
  {
   "cell_type": "code",
   "execution_count": 162,
   "id": "796c8012",
   "metadata": {},
   "outputs": [
    {
     "data": {
      "text/plain": [
       "75"
      ]
     },
     "execution_count": 162,
     "metadata": {},
     "output_type": "execute_result"
    }
   ],
   "source": [
    "top_20_pairs_tx[\"covid\"]"
   ]
  },
  {
   "cell_type": "code",
   "execution_count": 194,
   "id": "9044567c",
   "metadata": {
    "scrolled": true
   },
   "outputs": [
    {
     "name": "stdout",
     "output_type": "stream",
     "text": [
      "Kentucky : 3\n",
      "Texas : 75\n",
      "Florida : 75\n",
      "California : 58\n",
      "New York : 355\n",
      "Oregon : 83\n"
     ]
    }
   ],
   "source": [
    "print(f\"Kentucky : {top_20_pairs_ky['covid']}\")\n",
    "# print(f\"Idaho : {top_20_pairs_ga['covid']}\")\n",
    "print(f\"Texas : {top_20_pairs_tx['covid']}\")\n",
    "print(f\"Florida : {top_20_pairs_fl['covid']}\")\n",
    "# print(f\"Georgia : {top_20_pairs_ga['covid']}\")\n",
    "print(f\"California : {top_20_pairs_ca['covid']}\")\n",
    "print(f\"New York : {top_20_pairs_ny['covid']}\")\n",
    "# print(f\"New Jersey : {top_20_pairs_nj['covid']}\")\n",
    "print(f\"Oregon : {top_20_pairs_or['covid']}\")\n",
    "\n",
    "\n"
   ]
  },
  {
   "cell_type": "code",
   "execution_count": 201,
   "id": "36956000",
   "metadata": {},
   "outputs": [
    {
     "name": "stdout",
     "output_type": "stream",
     "text": [
      "Ukrain appeared in:\n",
      "Idaho : 1.91%\n",
      "Texas : 1.89%\n",
      "Georgia : 1.84%\n",
      "Florida : 1.43%\n",
      "California : 1.25%\n",
      "New York : 2.07%\n",
      "Oregon : 4.91%\n"
     ]
    }
   ],
   "source": [
    "print(\"Ukrain appeared in:\")\n",
    "\n",
    "# print(f\"Kentucky : {((top_20_pairs_ky['ukrain'])/182)*100:.2f}%\")\n",
    "print(f\"Idaho : {((top_20_pairs_ga['ukrain'])/680)*100:.2f}%\")\n",
    "print(f\"Texas : {((top_20_pairs_tx['ukrain'])/4702)*100:.2f}%\")\n",
    "print(f\"Georgia : {((top_20_pairs_ga['ukrain'])/706)*100:.2f}%\")\n",
    "print(f\"Florida : {((top_20_pairs_fl['ukrain'])/6207)*100:.2f}%\")\n",
    "print(f\"California : {((top_20_pairs_ca['ukrain'])/5274)*100:.2f}%\")\n",
    "print(f\"New York : {((top_20_pairs_ny['ukrain'])/14180)*100:.2f}%\")\n",
    "# print(f\"New Jersey : {((top_20_pairs_nj['ukrain'])/888)*100:.2f}%\")\n",
    "print(f\"Oregon : {((top_20_pairs_or['ukrain'])/3425)*100:.2f}%\")"
   ]
  },
  {
   "cell_type": "code",
   "execution_count": 205,
   "id": "46f20aab",
   "metadata": {},
   "outputs": [
    {
     "name": "stdout",
     "output_type": "stream",
     "text": [
      "covid appeared in:\n",
      "Kentucky : 1.65%\n",
      "Texas : 1.60%\n",
      "Florida : 1.21%\n",
      "California : 1.10%\n",
      "New York : 2.50%\n",
      "Oregon : 2.42%\n"
     ]
    }
   ],
   "source": [
    "print(\"covid appeared in:\")\n",
    "\n",
    "print(f\"Kentucky : {((top_20_pairs_ky['covid'])/182)*100:.2f}%\")\n",
    "# print(f\"Idaho : {((top_20_pairs_ga['covid'])/680)*100:.2f}%\")\n",
    "print(f\"Texas : {((top_20_pairs_tx['covid'])/4702)*100:.2f}%\")\n",
    "# print(f\"Georgia : {((top_20_pairs_ga['covid'])/706)*100:.2f}%\")\n",
    "print(f\"Florida : {((top_20_pairs_fl['covid'])/6207)*100:.2f}%\")\n",
    "print(f\"California : {((top_20_pairs_ca['covid'])/5274)*100:.2f}%\")\n",
    "print(f\"New York : {((top_20_pairs_ny['covid'])/14180)*100:.2f}%\")\n",
    "# print(f\"New Jersey : {((top_20_pairs_nj['covid'])/888)*100:.2f}%\")\n",
    "print(f\"Oregon : {((top_20_pairs_or['covid'])/3425)*100:.2f}%\")"
   ]
  },
  {
   "cell_type": "code",
   "execution_count": 214,
   "id": "16310e22",
   "metadata": {},
   "outputs": [
    {
     "name": "stdout",
     "output_type": "stream",
     "text": [
      "race appeared in:\n",
      "Idaho : 1.62%\n",
      "Texas : 2.08%\n",
      "Georgia : 1.56%\n",
      "Florida : 1.58%\n",
      "New Jersey : 1.69%\n"
     ]
    }
   ],
   "source": [
    "print(\"race appeared in:\")\n",
    "\n",
    "# print(f\"Kentucky : {((top_20_pairs_ky['race'])/182)*100:.2f}%\")\n",
    "print(f\"Idaho : {((top_20_pairs_ga['race'])/680)*100:.2f}%\")\n",
    "print(f\"Texas : {((top_20_pairs_tx['race'])/4702)*100:.2f}%\")\n",
    "print(f\"Georgia : {((top_20_pairs_ga['race'])/706)*100:.2f}%\")\n",
    "print(f\"Florida : {((top_20_pairs_fl['race'])/6207)*100:.2f}%\")\n",
    "# print(f\"California : {((top_20_pairs_ca['race'])/5274)*100:.2f}%\")\n",
    "# print(f\"New York : {((top_20_pairs_ny['race'])/14180)*100:.2f}%\")\n",
    "print(f\"New Jersey : {((top_20_pairs_nj['race'])/888)*100:.2f}%\")\n",
    "# print(f\"Oregon : {((top_20_pairs_or['race'])/3425)*100:.2f}%\")"
   ]
  },
  {
   "cell_type": "code",
   "execution_count": 217,
   "id": "fc607fb2",
   "metadata": {},
   "outputs": [
    {
     "name": "stdout",
     "output_type": "stream",
     "text": [
      "trump appeared in:\n",
      "Idaho      : 2.21%\n",
      "Texas      : 3.08%\n",
      "Georgia    : 2.12%\n",
      "Florida    : 2.34%\n",
      "California : 3.15%\n",
      "New York   : 19.15%\n",
      "New Jersey : 5.52%\n",
      "Oregon     : 2.48%\n"
     ]
    }
   ],
   "source": [
    "print(\"trump appeared in:\")\n",
    "\n",
    "# print(f\"Kentucky : {((top_20_pairs_ky['trump'])/182)*100:.2f}%\")\n",
    "print(f\"Idaho      : {((top_20_pairs_ga['trump'])/680)*100:.2f}%\")\n",
    "print(f\"Texas      : {((top_20_pairs_tx['trump'])/4702)*100:.2f}%\")\n",
    "print(f\"Georgia    : {((top_20_pairs_ga['trump'])/706)*100:.2f}%\")\n",
    "print(f\"Florida    : {((top_20_pairs_fl['trump'])/6207)*100:.2f}%\")\n",
    "print(f\"California : {((top_20_pairs_ca['trump'])/5274)*100:.2f}%\")\n",
    "print(f\"New York   : {((top_20_pairs_ny['trump'])/14180)*100:.2f}%\")\n",
    "print(f\"New Jersey : {((top_20_pairs_nj['trump'])/888)*100:.2f}%\")\n",
    "print(f\"Oregon     : {((top_20_pairs_or['trump'])/3425)*100:.2f}%\")"
   ]
  },
  {
   "cell_type": "code",
   "execution_count": 220,
   "id": "997aa830",
   "metadata": {},
   "outputs": [
    {
     "name": "stdout",
     "output_type": "stream",
     "text": [
      "biden appeared in:\n",
      "Kentucky   : 1.65%\n",
      "Idaho      : 3.68%\n",
      "Texas      : 4.64%\n",
      "Georgia    : 3.54%\n",
      "Florida    : 3.51%\n",
      "California : 5.76%\n",
      "New York   : 4.09%\n",
      "New Jersey : 8.56%\n",
      "Oregon     : 3.36%\n"
     ]
    }
   ],
   "source": [
    "print(\"biden appeared in:\")\n",
    "\n",
    "print(f\"Kentucky   : {((top_20_pairs_ky['biden'])/182)*100:.2f}%\")\n",
    "print(f\"Idaho      : {((top_20_pairs_ga['biden'])/680)*100:.2f}%\")\n",
    "print(f\"Texas      : {((top_20_pairs_tx['biden'])/4702)*100:.2f}%\")\n",
    "print(f\"Georgia    : {((top_20_pairs_ga['biden'])/706)*100:.2f}%\")\n",
    "print(f\"Florida    : {((top_20_pairs_fl['biden'])/6207)*100:.2f}%\")\n",
    "print(f\"California : {((top_20_pairs_ca['biden'])/5274)*100:.2f}%\")\n",
    "print(f\"New York   : {((top_20_pairs_ny['biden'])/14180)*100:.2f}%\")\n",
    "print(f\"New Jersey : {((top_20_pairs_nj['biden'])/888)*100:.2f}%\")\n",
    "print(f\"Oregon     : {((top_20_pairs_or['biden'])/3425)*100:.2f}%\")"
   ]
  },
  {
   "cell_type": "code",
   "execution_count": 263,
   "id": "b84380fe",
   "metadata": {},
   "outputs": [
    {
     "name": "stdout",
     "output_type": "stream",
     "text": [
      "abort appeared in:\n"
     ]
    }
   ],
   "source": [
    "print(\"abort appeared in:\")\n",
    "\n",
    "print(f\"Kentucky   : {((top_20_pairs_ky['abort'])/182)*100:.2f}%\")\n",
    "print(f\"Idaho      : {((top_20_pairs_ga['abory'])/680)*100:.2f}%\")\n",
    "print(f\"Texas      : {((top_20_pairs_tx['abort'])/4702)*100:.2f}%\")\n",
    "print(f\"Georgia    : {((top_20_pairs_ga['abort'])/706)*100:.2f}%\")\n",
    "print(f\"Florida    : {((top_20_pairs_fl['abort'])/6207)*100:.2f}%\")\n",
    "print(f\"California : {((top_20_pairs_ca['abort'])/5274)*100:.2f}%\")\n",
    "print(f\"New York   : {((top_20_pairs_ny['abort'])/14180)*100:.2f}%\")\n",
    "print(f\"New Jersey : {((top_20_pairs_nj['abort'])/888)*100:.2f}%\")\n",
    "print(f\"Oregon     : {((top_20_pairs_or['abort'])/3425)*100:.2f}%\")"
   ]
  },
  {
   "cell_type": "code",
   "execution_count": 293,
   "id": "3f48f3b9",
   "metadata": {},
   "outputs": [
    {
     "name": "stdout",
     "output_type": "stream",
     "text": [
      "marijuana appeared in:\n",
      "California : 5.99%\n"
     ]
    }
   ],
   "source": [
    "print(\"marijuana appeared in:\")\n",
    "\n",
    "# print(f\"Kentucky   : {((top_20_pairs_ky['marijuana'])/182)*100:.2f}%\")\n",
    "# print(f\"Idaho      : {((top_20_pairs_ga['marijuana'])/680)*100:.2f}%\")\n",
    "# print(f\"Texas      : {((top_20_pairs_tx['marijuana'])/4702)*100:.2f}%\")\n",
    "# print(f\"Georgia    : {((top_20_pairs_ga['marijuana'])/706)*100:.2f}%\")\n",
    "# print(f\"Florida    : {((top_20_pairs_fl['marijuana'])/6207)*100:.2f}%\")\n",
    "print(f\"California : {((top_20_pairs_ca['marijuana'])/5274)*100:.2f}%\")\n",
    "# print(f\"New York   : {((top_20_pairs_ny['marijuana'])/14180)*100:.2f}%\")\n",
    "# print(f\"New Jersey : {((top_20_pairs_nj['marijuana'])/888)*100:.2f}%\")\n",
    "# print(f\"Oregon     : {((top_20_pairs_or['marijuana'])/3425)*100:.2f}%\")"
   ]
  },
  {
   "cell_type": "code",
   "execution_count": 304,
   "id": "3d9af7e9",
   "metadata": {},
   "outputs": [
    {
     "name": "stdout",
     "output_type": "stream",
     "text": [
      "god appeared in:\n",
      "Kentucky   : 1.65%\n"
     ]
    }
   ],
   "source": [
    "print(\"god appeared in:\")\n",
    "\n",
    "print(f\"Kentucky   : {((top_20_pairs_ky['god'])/182)*100:.2f}%\")\n",
    "# print(f\"Idaho      : {((top_20_pairs_ga['god'])/680)*100:.2f}%\")\n",
    "# print(f\"Texas      : {((top_20_pairs_tx['god'])/4702)*100:.2f}%\")\n",
    "# print(f\"Georgia    : {((top_20_pairs_ga['god'])/706)*100:.2f}%\")\n",
    "# print(f\"Florida    : {((top_20_pairs_fl['god'])/6207)*100:.2f}%\")\n",
    "# print(f\"California : {((top_20_pairs_ca['god'])/5274)*100:.2f}%\")\n",
    "# print(f\"New York   : {((top_20_pairs_ny['god'])/14180)*100:.2f}%\")\n",
    "# print(f\"New Jersey : {((top_20_pairs_nj['god'])/888)*100:.2f}%\")\n",
    "# print(f\"Oregon     : {((top_20_pairs_or['god'])/3425)*100:.2f}%\")"
   ]
  },
  {
   "cell_type": "code",
   "execution_count": 322,
   "id": "83821ba4",
   "metadata": {},
   "outputs": [
    {
     "name": "stdout",
     "output_type": "stream",
     "text": [
      "abort\n",
      "abortionlov\n",
      "abortionrel\n",
      "abortionseek\n",
      "abortiontaint\n",
      "abortionth\n",
      "abortionwhat\n",
      "ampabort\n",
      "antiabort\n",
      "antiabortionist\n",
      "chakraborti\n",
      "ongunsandabortionfurth\n",
      "proabort\n"
     ]
    }
   ],
   "source": [
    "for i in data.columns:\n",
    "    if \"abort\" in i:\n",
    "        print(i)"
   ]
  },
  {
   "cell_type": "code",
   "execution_count": 337,
   "id": "0c8d7cf9",
   "metadata": {},
   "outputs": [],
   "source": [
    "abortion_mask = data[[\"abort\", \"abortionlov\", \"abortionrel\", \"abortionseek\", \"abortiontaint\", \"abortionth\", \"abortionth\", \"abortionwhat\",\n",
    "     \"ampabort\", \"antiabort\", \"antiabortionist\", \"proabort\"]].notnull"
   ]
  },
  {
   "cell_type": "code",
   "execution_count": 350,
   "id": "d2050d70",
   "metadata": {},
   "outputs": [],
   "source": [
    "abortion_by_state = data.groupby(data.index)[[\"abort\", \"abortionlov\", \"abortionrel\", \"abortionseek\", \"abortiontaint\", \"abortionth\", \"abortionth\", \"abortionwhat\",\n",
    "     \"ampabort\", \"antiabort\", \"antiabortionist\", \"proabort\"]].sum().sort_values(by=  \"abort\", ascending=False)\n"
   ]
  },
  {
   "cell_type": "code",
   "execution_count": 352,
   "id": "fd91a9f5",
   "metadata": {},
   "outputs": [
    {
     "data": {
      "text/html": [
       "<div>\n",
       "<style scoped>\n",
       "    .dataframe tbody tr th:only-of-type {\n",
       "        vertical-align: middle;\n",
       "    }\n",
       "\n",
       "    .dataframe tbody tr th {\n",
       "        vertical-align: top;\n",
       "    }\n",
       "\n",
       "    .dataframe thead th {\n",
       "        text-align: right;\n",
       "    }\n",
       "</style>\n",
       "<table border=\"1\" class=\"dataframe\">\n",
       "  <thead>\n",
       "    <tr style=\"text-align: right;\">\n",
       "      <th></th>\n",
       "      <th>abort</th>\n",
       "      <th>abortionlov</th>\n",
       "      <th>abortionrel</th>\n",
       "      <th>abortionseek</th>\n",
       "      <th>abortiontaint</th>\n",
       "      <th>abortionth</th>\n",
       "      <th>abortionth</th>\n",
       "      <th>abortionwhat</th>\n",
       "      <th>ampabort</th>\n",
       "      <th>antiabort</th>\n",
       "      <th>antiabortionist</th>\n",
       "      <th>proabort</th>\n",
       "    </tr>\n",
       "    <tr>\n",
       "      <th>locations</th>\n",
       "      <th></th>\n",
       "      <th></th>\n",
       "      <th></th>\n",
       "      <th></th>\n",
       "      <th></th>\n",
       "      <th></th>\n",
       "      <th></th>\n",
       "      <th></th>\n",
       "      <th></th>\n",
       "      <th></th>\n",
       "      <th></th>\n",
       "      <th></th>\n",
       "    </tr>\n",
       "  </thead>\n",
       "  <tbody>\n",
       "    <tr>\n",
       "      <th>new york</th>\n",
       "      <td>159</td>\n",
       "      <td>0</td>\n",
       "      <td>0</td>\n",
       "      <td>1</td>\n",
       "      <td>0</td>\n",
       "      <td>0</td>\n",
       "      <td>0</td>\n",
       "      <td>0</td>\n",
       "      <td>0</td>\n",
       "      <td>16</td>\n",
       "      <td>1</td>\n",
       "      <td>0</td>\n",
       "    </tr>\n",
       "    <tr>\n",
       "      <th>washington</th>\n",
       "      <td>117</td>\n",
       "      <td>0</td>\n",
       "      <td>0</td>\n",
       "      <td>0</td>\n",
       "      <td>0</td>\n",
       "      <td>0</td>\n",
       "      <td>0</td>\n",
       "      <td>1</td>\n",
       "      <td>0</td>\n",
       "      <td>7</td>\n",
       "      <td>0</td>\n",
       "      <td>0</td>\n",
       "    </tr>\n",
       "    <tr>\n",
       "      <th>united states</th>\n",
       "      <td>35</td>\n",
       "      <td>0</td>\n",
       "      <td>0</td>\n",
       "      <td>0</td>\n",
       "      <td>0</td>\n",
       "      <td>0</td>\n",
       "      <td>0</td>\n",
       "      <td>0</td>\n",
       "      <td>0</td>\n",
       "      <td>1</td>\n",
       "      <td>0</td>\n",
       "      <td>2</td>\n",
       "    </tr>\n",
       "    <tr>\n",
       "      <th>california</th>\n",
       "      <td>31</td>\n",
       "      <td>0</td>\n",
       "      <td>0</td>\n",
       "      <td>0</td>\n",
       "      <td>0</td>\n",
       "      <td>1</td>\n",
       "      <td>1</td>\n",
       "      <td>0</td>\n",
       "      <td>0</td>\n",
       "      <td>1</td>\n",
       "      <td>0</td>\n",
       "      <td>1</td>\n",
       "    </tr>\n",
       "    <tr>\n",
       "      <th>pennsylvania</th>\n",
       "      <td>27</td>\n",
       "      <td>0</td>\n",
       "      <td>0</td>\n",
       "      <td>0</td>\n",
       "      <td>0</td>\n",
       "      <td>0</td>\n",
       "      <td>0</td>\n",
       "      <td>0</td>\n",
       "      <td>0</td>\n",
       "      <td>5</td>\n",
       "      <td>0</td>\n",
       "      <td>0</td>\n",
       "    </tr>\n",
       "    <tr>\n",
       "      <th>texas</th>\n",
       "      <td>23</td>\n",
       "      <td>0</td>\n",
       "      <td>2</td>\n",
       "      <td>0</td>\n",
       "      <td>0</td>\n",
       "      <td>0</td>\n",
       "      <td>0</td>\n",
       "      <td>0</td>\n",
       "      <td>0</td>\n",
       "      <td>4</td>\n",
       "      <td>0</td>\n",
       "      <td>0</td>\n",
       "    </tr>\n",
       "    <tr>\n",
       "      <th>florida</th>\n",
       "      <td>11</td>\n",
       "      <td>1</td>\n",
       "      <td>0</td>\n",
       "      <td>0</td>\n",
       "      <td>1</td>\n",
       "      <td>0</td>\n",
       "      <td>0</td>\n",
       "      <td>0</td>\n",
       "      <td>0</td>\n",
       "      <td>0</td>\n",
       "      <td>1</td>\n",
       "      <td>1</td>\n",
       "    </tr>\n",
       "    <tr>\n",
       "      <th>illinois</th>\n",
       "      <td>10</td>\n",
       "      <td>0</td>\n",
       "      <td>0</td>\n",
       "      <td>0</td>\n",
       "      <td>0</td>\n",
       "      <td>0</td>\n",
       "      <td>0</td>\n",
       "      <td>0</td>\n",
       "      <td>0</td>\n",
       "      <td>0</td>\n",
       "      <td>0</td>\n",
       "      <td>0</td>\n",
       "    </tr>\n",
       "    <tr>\n",
       "      <th>arizona</th>\n",
       "      <td>9</td>\n",
       "      <td>0</td>\n",
       "      <td>0</td>\n",
       "      <td>0</td>\n",
       "      <td>0</td>\n",
       "      <td>0</td>\n",
       "      <td>0</td>\n",
       "      <td>0</td>\n",
       "      <td>0</td>\n",
       "      <td>0</td>\n",
       "      <td>0</td>\n",
       "      <td>0</td>\n",
       "    </tr>\n",
       "    <tr>\n",
       "      <th>virginia</th>\n",
       "      <td>8</td>\n",
       "      <td>0</td>\n",
       "      <td>0</td>\n",
       "      <td>0</td>\n",
       "      <td>0</td>\n",
       "      <td>0</td>\n",
       "      <td>0</td>\n",
       "      <td>0</td>\n",
       "      <td>0</td>\n",
       "      <td>0</td>\n",
       "      <td>0</td>\n",
       "      <td>0</td>\n",
       "    </tr>\n",
       "    <tr>\n",
       "      <th>minnesota</th>\n",
       "      <td>7</td>\n",
       "      <td>0</td>\n",
       "      <td>0</td>\n",
       "      <td>0</td>\n",
       "      <td>0</td>\n",
       "      <td>0</td>\n",
       "      <td>0</td>\n",
       "      <td>0</td>\n",
       "      <td>0</td>\n",
       "      <td>0</td>\n",
       "      <td>0</td>\n",
       "      <td>0</td>\n",
       "    </tr>\n",
       "    <tr>\n",
       "      <th>oregon</th>\n",
       "      <td>5</td>\n",
       "      <td>0</td>\n",
       "      <td>0</td>\n",
       "      <td>0</td>\n",
       "      <td>0</td>\n",
       "      <td>0</td>\n",
       "      <td>0</td>\n",
       "      <td>0</td>\n",
       "      <td>0</td>\n",
       "      <td>1</td>\n",
       "      <td>0</td>\n",
       "      <td>0</td>\n",
       "    </tr>\n",
       "    <tr>\n",
       "      <th>north carolina</th>\n",
       "      <td>5</td>\n",
       "      <td>0</td>\n",
       "      <td>0</td>\n",
       "      <td>0</td>\n",
       "      <td>0</td>\n",
       "      <td>0</td>\n",
       "      <td>0</td>\n",
       "      <td>0</td>\n",
       "      <td>1</td>\n",
       "      <td>0</td>\n",
       "      <td>0</td>\n",
       "      <td>0</td>\n",
       "    </tr>\n",
       "    <tr>\n",
       "      <th>indiana</th>\n",
       "      <td>4</td>\n",
       "      <td>0</td>\n",
       "      <td>0</td>\n",
       "      <td>0</td>\n",
       "      <td>0</td>\n",
       "      <td>0</td>\n",
       "      <td>0</td>\n",
       "      <td>0</td>\n",
       "      <td>0</td>\n",
       "      <td>1</td>\n",
       "      <td>0</td>\n",
       "      <td>0</td>\n",
       "    </tr>\n",
       "    <tr>\n",
       "      <th>oklahoma</th>\n",
       "      <td>4</td>\n",
       "      <td>0</td>\n",
       "      <td>0</td>\n",
       "      <td>0</td>\n",
       "      <td>0</td>\n",
       "      <td>0</td>\n",
       "      <td>0</td>\n",
       "      <td>0</td>\n",
       "      <td>0</td>\n",
       "      <td>0</td>\n",
       "      <td>0</td>\n",
       "      <td>0</td>\n",
       "    </tr>\n",
       "    <tr>\n",
       "      <th>new hampshire</th>\n",
       "      <td>3</td>\n",
       "      <td>0</td>\n",
       "      <td>0</td>\n",
       "      <td>0</td>\n",
       "      <td>0</td>\n",
       "      <td>0</td>\n",
       "      <td>0</td>\n",
       "      <td>0</td>\n",
       "      <td>0</td>\n",
       "      <td>0</td>\n",
       "      <td>0</td>\n",
       "      <td>0</td>\n",
       "    </tr>\n",
       "    <tr>\n",
       "      <th>michigan</th>\n",
       "      <td>3</td>\n",
       "      <td>0</td>\n",
       "      <td>0</td>\n",
       "      <td>0</td>\n",
       "      <td>0</td>\n",
       "      <td>0</td>\n",
       "      <td>0</td>\n",
       "      <td>0</td>\n",
       "      <td>0</td>\n",
       "      <td>0</td>\n",
       "      <td>0</td>\n",
       "      <td>0</td>\n",
       "    </tr>\n",
       "    <tr>\n",
       "      <th>maine</th>\n",
       "      <td>3</td>\n",
       "      <td>0</td>\n",
       "      <td>0</td>\n",
       "      <td>0</td>\n",
       "      <td>0</td>\n",
       "      <td>0</td>\n",
       "      <td>0</td>\n",
       "      <td>0</td>\n",
       "      <td>0</td>\n",
       "      <td>0</td>\n",
       "      <td>0</td>\n",
       "      <td>0</td>\n",
       "    </tr>\n",
       "    <tr>\n",
       "      <th>massachusetts</th>\n",
       "      <td>2</td>\n",
       "      <td>0</td>\n",
       "      <td>0</td>\n",
       "      <td>0</td>\n",
       "      <td>0</td>\n",
       "      <td>0</td>\n",
       "      <td>0</td>\n",
       "      <td>0</td>\n",
       "      <td>0</td>\n",
       "      <td>0</td>\n",
       "      <td>0</td>\n",
       "      <td>0</td>\n",
       "    </tr>\n",
       "    <tr>\n",
       "      <th>alabama</th>\n",
       "      <td>2</td>\n",
       "      <td>0</td>\n",
       "      <td>0</td>\n",
       "      <td>0</td>\n",
       "      <td>0</td>\n",
       "      <td>0</td>\n",
       "      <td>0</td>\n",
       "      <td>0</td>\n",
       "      <td>0</td>\n",
       "      <td>0</td>\n",
       "      <td>0</td>\n",
       "      <td>0</td>\n",
       "    </tr>\n",
       "    <tr>\n",
       "      <th>tennessee</th>\n",
       "      <td>2</td>\n",
       "      <td>0</td>\n",
       "      <td>0</td>\n",
       "      <td>0</td>\n",
       "      <td>0</td>\n",
       "      <td>0</td>\n",
       "      <td>0</td>\n",
       "      <td>0</td>\n",
       "      <td>0</td>\n",
       "      <td>0</td>\n",
       "      <td>0</td>\n",
       "      <td>0</td>\n",
       "    </tr>\n",
       "    <tr>\n",
       "      <th>arkansas</th>\n",
       "      <td>2</td>\n",
       "      <td>0</td>\n",
       "      <td>0</td>\n",
       "      <td>0</td>\n",
       "      <td>0</td>\n",
       "      <td>0</td>\n",
       "      <td>0</td>\n",
       "      <td>0</td>\n",
       "      <td>0</td>\n",
       "      <td>0</td>\n",
       "      <td>0</td>\n",
       "      <td>0</td>\n",
       "    </tr>\n",
       "    <tr>\n",
       "      <th>colorado</th>\n",
       "      <td>2</td>\n",
       "      <td>0</td>\n",
       "      <td>0</td>\n",
       "      <td>0</td>\n",
       "      <td>0</td>\n",
       "      <td>0</td>\n",
       "      <td>0</td>\n",
       "      <td>0</td>\n",
       "      <td>0</td>\n",
       "      <td>0</td>\n",
       "      <td>0</td>\n",
       "      <td>0</td>\n",
       "    </tr>\n",
       "    <tr>\n",
       "      <th>ohio</th>\n",
       "      <td>1</td>\n",
       "      <td>0</td>\n",
       "      <td>0</td>\n",
       "      <td>0</td>\n",
       "      <td>0</td>\n",
       "      <td>0</td>\n",
       "      <td>0</td>\n",
       "      <td>0</td>\n",
       "      <td>0</td>\n",
       "      <td>0</td>\n",
       "      <td>0</td>\n",
       "      <td>0</td>\n",
       "    </tr>\n",
       "    <tr>\n",
       "      <th>west virginia</th>\n",
       "      <td>1</td>\n",
       "      <td>0</td>\n",
       "      <td>0</td>\n",
       "      <td>0</td>\n",
       "      <td>0</td>\n",
       "      <td>0</td>\n",
       "      <td>0</td>\n",
       "      <td>0</td>\n",
       "      <td>0</td>\n",
       "      <td>0</td>\n",
       "      <td>0</td>\n",
       "      <td>0</td>\n",
       "    </tr>\n",
       "    <tr>\n",
       "      <th>montana</th>\n",
       "      <td>1</td>\n",
       "      <td>0</td>\n",
       "      <td>0</td>\n",
       "      <td>0</td>\n",
       "      <td>0</td>\n",
       "      <td>0</td>\n",
       "      <td>0</td>\n",
       "      <td>0</td>\n",
       "      <td>0</td>\n",
       "      <td>0</td>\n",
       "      <td>0</td>\n",
       "      <td>0</td>\n",
       "    </tr>\n",
       "    <tr>\n",
       "      <th>alaska</th>\n",
       "      <td>1</td>\n",
       "      <td>0</td>\n",
       "      <td>0</td>\n",
       "      <td>0</td>\n",
       "      <td>0</td>\n",
       "      <td>0</td>\n",
       "      <td>0</td>\n",
       "      <td>0</td>\n",
       "      <td>0</td>\n",
       "      <td>0</td>\n",
       "      <td>0</td>\n",
       "      <td>0</td>\n",
       "    </tr>\n",
       "    <tr>\n",
       "      <th>connecticut</th>\n",
       "      <td>1</td>\n",
       "      <td>0</td>\n",
       "      <td>0</td>\n",
       "      <td>0</td>\n",
       "      <td>0</td>\n",
       "      <td>0</td>\n",
       "      <td>0</td>\n",
       "      <td>0</td>\n",
       "      <td>0</td>\n",
       "      <td>0</td>\n",
       "      <td>0</td>\n",
       "      <td>0</td>\n",
       "    </tr>\n",
       "    <tr>\n",
       "      <th>georgia</th>\n",
       "      <td>1</td>\n",
       "      <td>0</td>\n",
       "      <td>0</td>\n",
       "      <td>0</td>\n",
       "      <td>0</td>\n",
       "      <td>0</td>\n",
       "      <td>0</td>\n",
       "      <td>0</td>\n",
       "      <td>0</td>\n",
       "      <td>0</td>\n",
       "      <td>0</td>\n",
       "      <td>0</td>\n",
       "    </tr>\n",
       "    <tr>\n",
       "      <th>louisiana</th>\n",
       "      <td>1</td>\n",
       "      <td>0</td>\n",
       "      <td>0</td>\n",
       "      <td>0</td>\n",
       "      <td>0</td>\n",
       "      <td>0</td>\n",
       "      <td>0</td>\n",
       "      <td>0</td>\n",
       "      <td>0</td>\n",
       "      <td>0</td>\n",
       "      <td>0</td>\n",
       "      <td>0</td>\n",
       "    </tr>\n",
       "    <tr>\n",
       "      <th>idaho</th>\n",
       "      <td>1</td>\n",
       "      <td>0</td>\n",
       "      <td>0</td>\n",
       "      <td>0</td>\n",
       "      <td>0</td>\n",
       "      <td>0</td>\n",
       "      <td>0</td>\n",
       "      <td>0</td>\n",
       "      <td>0</td>\n",
       "      <td>0</td>\n",
       "      <td>0</td>\n",
       "      <td>0</td>\n",
       "    </tr>\n",
       "    <tr>\n",
       "      <th>nebraska</th>\n",
       "      <td>0</td>\n",
       "      <td>0</td>\n",
       "      <td>0</td>\n",
       "      <td>0</td>\n",
       "      <td>0</td>\n",
       "      <td>0</td>\n",
       "      <td>0</td>\n",
       "      <td>0</td>\n",
       "      <td>0</td>\n",
       "      <td>0</td>\n",
       "      <td>0</td>\n",
       "      <td>0</td>\n",
       "    </tr>\n",
       "    <tr>\n",
       "      <th>south dakota</th>\n",
       "      <td>0</td>\n",
       "      <td>0</td>\n",
       "      <td>0</td>\n",
       "      <td>0</td>\n",
       "      <td>0</td>\n",
       "      <td>0</td>\n",
       "      <td>0</td>\n",
       "      <td>0</td>\n",
       "      <td>0</td>\n",
       "      <td>0</td>\n",
       "      <td>0</td>\n",
       "      <td>0</td>\n",
       "    </tr>\n",
       "    <tr>\n",
       "      <th>wisconsin</th>\n",
       "      <td>0</td>\n",
       "      <td>0</td>\n",
       "      <td>0</td>\n",
       "      <td>0</td>\n",
       "      <td>0</td>\n",
       "      <td>0</td>\n",
       "      <td>0</td>\n",
       "      <td>0</td>\n",
       "      <td>0</td>\n",
       "      <td>0</td>\n",
       "      <td>0</td>\n",
       "      <td>0</td>\n",
       "    </tr>\n",
       "    <tr>\n",
       "      <th>delaware</th>\n",
       "      <td>0</td>\n",
       "      <td>0</td>\n",
       "      <td>0</td>\n",
       "      <td>0</td>\n",
       "      <td>0</td>\n",
       "      <td>0</td>\n",
       "      <td>0</td>\n",
       "      <td>0</td>\n",
       "      <td>0</td>\n",
       "      <td>0</td>\n",
       "      <td>0</td>\n",
       "      <td>0</td>\n",
       "    </tr>\n",
       "    <tr>\n",
       "      <th>vermont</th>\n",
       "      <td>0</td>\n",
       "      <td>0</td>\n",
       "      <td>0</td>\n",
       "      <td>0</td>\n",
       "      <td>0</td>\n",
       "      <td>0</td>\n",
       "      <td>0</td>\n",
       "      <td>0</td>\n",
       "      <td>0</td>\n",
       "      <td>0</td>\n",
       "      <td>0</td>\n",
       "      <td>0</td>\n",
       "    </tr>\n",
       "    <tr>\n",
       "      <th>utah</th>\n",
       "      <td>0</td>\n",
       "      <td>0</td>\n",
       "      <td>0</td>\n",
       "      <td>0</td>\n",
       "      <td>0</td>\n",
       "      <td>0</td>\n",
       "      <td>0</td>\n",
       "      <td>0</td>\n",
       "      <td>0</td>\n",
       "      <td>0</td>\n",
       "      <td>0</td>\n",
       "      <td>0</td>\n",
       "    </tr>\n",
       "    <tr>\n",
       "      <th>hawaii</th>\n",
       "      <td>0</td>\n",
       "      <td>0</td>\n",
       "      <td>0</td>\n",
       "      <td>0</td>\n",
       "      <td>0</td>\n",
       "      <td>0</td>\n",
       "      <td>0</td>\n",
       "      <td>0</td>\n",
       "      <td>0</td>\n",
       "      <td>0</td>\n",
       "      <td>0</td>\n",
       "      <td>0</td>\n",
       "    </tr>\n",
       "    <tr>\n",
       "      <th>iowa</th>\n",
       "      <td>0</td>\n",
       "      <td>0</td>\n",
       "      <td>0</td>\n",
       "      <td>0</td>\n",
       "      <td>0</td>\n",
       "      <td>0</td>\n",
       "      <td>0</td>\n",
       "      <td>0</td>\n",
       "      <td>0</td>\n",
       "      <td>0</td>\n",
       "      <td>0</td>\n",
       "      <td>0</td>\n",
       "    </tr>\n",
       "    <tr>\n",
       "      <th>rhode island</th>\n",
       "      <td>0</td>\n",
       "      <td>0</td>\n",
       "      <td>0</td>\n",
       "      <td>0</td>\n",
       "      <td>0</td>\n",
       "      <td>0</td>\n",
       "      <td>0</td>\n",
       "      <td>0</td>\n",
       "      <td>0</td>\n",
       "      <td>0</td>\n",
       "      <td>0</td>\n",
       "      <td>0</td>\n",
       "    </tr>\n",
       "    <tr>\n",
       "      <th>south carolina</th>\n",
       "      <td>0</td>\n",
       "      <td>0</td>\n",
       "      <td>0</td>\n",
       "      <td>0</td>\n",
       "      <td>0</td>\n",
       "      <td>0</td>\n",
       "      <td>0</td>\n",
       "      <td>0</td>\n",
       "      <td>0</td>\n",
       "      <td>0</td>\n",
       "      <td>0</td>\n",
       "      <td>0</td>\n",
       "    </tr>\n",
       "    <tr>\n",
       "      <th>nevada</th>\n",
       "      <td>0</td>\n",
       "      <td>0</td>\n",
       "      <td>0</td>\n",
       "      <td>0</td>\n",
       "      <td>0</td>\n",
       "      <td>0</td>\n",
       "      <td>0</td>\n",
       "      <td>0</td>\n",
       "      <td>0</td>\n",
       "      <td>0</td>\n",
       "      <td>0</td>\n",
       "      <td>0</td>\n",
       "    </tr>\n",
       "    <tr>\n",
       "      <th>kansas</th>\n",
       "      <td>0</td>\n",
       "      <td>0</td>\n",
       "      <td>0</td>\n",
       "      <td>0</td>\n",
       "      <td>0</td>\n",
       "      <td>0</td>\n",
       "      <td>0</td>\n",
       "      <td>0</td>\n",
       "      <td>0</td>\n",
       "      <td>0</td>\n",
       "      <td>0</td>\n",
       "      <td>0</td>\n",
       "    </tr>\n",
       "    <tr>\n",
       "      <th>kentucky</th>\n",
       "      <td>0</td>\n",
       "      <td>0</td>\n",
       "      <td>0</td>\n",
       "      <td>0</td>\n",
       "      <td>0</td>\n",
       "      <td>0</td>\n",
       "      <td>0</td>\n",
       "      <td>0</td>\n",
       "      <td>0</td>\n",
       "      <td>0</td>\n",
       "      <td>0</td>\n",
       "      <td>0</td>\n",
       "    </tr>\n",
       "    <tr>\n",
       "      <th>maryland</th>\n",
       "      <td>0</td>\n",
       "      <td>0</td>\n",
       "      <td>0</td>\n",
       "      <td>0</td>\n",
       "      <td>0</td>\n",
       "      <td>0</td>\n",
       "      <td>0</td>\n",
       "      <td>0</td>\n",
       "      <td>0</td>\n",
       "      <td>0</td>\n",
       "      <td>0</td>\n",
       "      <td>0</td>\n",
       "    </tr>\n",
       "    <tr>\n",
       "      <th>north dakota</th>\n",
       "      <td>0</td>\n",
       "      <td>0</td>\n",
       "      <td>0</td>\n",
       "      <td>0</td>\n",
       "      <td>0</td>\n",
       "      <td>0</td>\n",
       "      <td>0</td>\n",
       "      <td>0</td>\n",
       "      <td>0</td>\n",
       "      <td>0</td>\n",
       "      <td>0</td>\n",
       "      <td>0</td>\n",
       "    </tr>\n",
       "    <tr>\n",
       "      <th>mississippi</th>\n",
       "      <td>0</td>\n",
       "      <td>0</td>\n",
       "      <td>0</td>\n",
       "      <td>0</td>\n",
       "      <td>0</td>\n",
       "      <td>0</td>\n",
       "      <td>0</td>\n",
       "      <td>0</td>\n",
       "      <td>0</td>\n",
       "      <td>0</td>\n",
       "      <td>0</td>\n",
       "      <td>0</td>\n",
       "    </tr>\n",
       "    <tr>\n",
       "      <th>missouri</th>\n",
       "      <td>0</td>\n",
       "      <td>0</td>\n",
       "      <td>0</td>\n",
       "      <td>0</td>\n",
       "      <td>0</td>\n",
       "      <td>0</td>\n",
       "      <td>0</td>\n",
       "      <td>0</td>\n",
       "      <td>0</td>\n",
       "      <td>0</td>\n",
       "      <td>0</td>\n",
       "      <td>0</td>\n",
       "    </tr>\n",
       "    <tr>\n",
       "      <th>new mexico</th>\n",
       "      <td>0</td>\n",
       "      <td>0</td>\n",
       "      <td>0</td>\n",
       "      <td>0</td>\n",
       "      <td>0</td>\n",
       "      <td>0</td>\n",
       "      <td>0</td>\n",
       "      <td>0</td>\n",
       "      <td>0</td>\n",
       "      <td>0</td>\n",
       "      <td>0</td>\n",
       "      <td>0</td>\n",
       "    </tr>\n",
       "    <tr>\n",
       "      <th>new jersey</th>\n",
       "      <td>0</td>\n",
       "      <td>0</td>\n",
       "      <td>0</td>\n",
       "      <td>0</td>\n",
       "      <td>0</td>\n",
       "      <td>0</td>\n",
       "      <td>0</td>\n",
       "      <td>0</td>\n",
       "      <td>0</td>\n",
       "      <td>0</td>\n",
       "      <td>0</td>\n",
       "      <td>0</td>\n",
       "    </tr>\n",
       "    <tr>\n",
       "      <th>wyoming</th>\n",
       "      <td>0</td>\n",
       "      <td>0</td>\n",
       "      <td>0</td>\n",
       "      <td>0</td>\n",
       "      <td>0</td>\n",
       "      <td>0</td>\n",
       "      <td>0</td>\n",
       "      <td>0</td>\n",
       "      <td>0</td>\n",
       "      <td>0</td>\n",
       "      <td>0</td>\n",
       "      <td>0</td>\n",
       "    </tr>\n",
       "  </tbody>\n",
       "</table>\n",
       "</div>"
      ],
      "text/plain": [
       "                abort  abortionlov  abortionrel  abortionseek  abortiontaint  \\\n",
       "locations                                                                      \n",
       "new york          159            0            0             1              0   \n",
       "washington        117            0            0             0              0   \n",
       "united states      35            0            0             0              0   \n",
       "california         31            0            0             0              0   \n",
       "pennsylvania       27            0            0             0              0   \n",
       "texas              23            0            2             0              0   \n",
       "florida            11            1            0             0              1   \n",
       "illinois           10            0            0             0              0   \n",
       "arizona             9            0            0             0              0   \n",
       "virginia            8            0            0             0              0   \n",
       "minnesota           7            0            0             0              0   \n",
       "oregon              5            0            0             0              0   \n",
       "north carolina      5            0            0             0              0   \n",
       "indiana             4            0            0             0              0   \n",
       "oklahoma            4            0            0             0              0   \n",
       "new hampshire       3            0            0             0              0   \n",
       "michigan            3            0            0             0              0   \n",
       "maine               3            0            0             0              0   \n",
       "massachusetts       2            0            0             0              0   \n",
       "alabama             2            0            0             0              0   \n",
       "tennessee           2            0            0             0              0   \n",
       "arkansas            2            0            0             0              0   \n",
       "colorado            2            0            0             0              0   \n",
       "ohio                1            0            0             0              0   \n",
       "west virginia       1            0            0             0              0   \n",
       "montana             1            0            0             0              0   \n",
       "alaska              1            0            0             0              0   \n",
       "connecticut         1            0            0             0              0   \n",
       "georgia             1            0            0             0              0   \n",
       "louisiana           1            0            0             0              0   \n",
       "idaho               1            0            0             0              0   \n",
       "nebraska            0            0            0             0              0   \n",
       "south dakota        0            0            0             0              0   \n",
       "wisconsin           0            0            0             0              0   \n",
       "delaware            0            0            0             0              0   \n",
       "vermont             0            0            0             0              0   \n",
       "utah                0            0            0             0              0   \n",
       "hawaii              0            0            0             0              0   \n",
       "iowa                0            0            0             0              0   \n",
       "rhode island        0            0            0             0              0   \n",
       "south carolina      0            0            0             0              0   \n",
       "nevada              0            0            0             0              0   \n",
       "kansas              0            0            0             0              0   \n",
       "kentucky            0            0            0             0              0   \n",
       "maryland            0            0            0             0              0   \n",
       "north dakota        0            0            0             0              0   \n",
       "mississippi         0            0            0             0              0   \n",
       "missouri            0            0            0             0              0   \n",
       "new mexico          0            0            0             0              0   \n",
       "new jersey          0            0            0             0              0   \n",
       "wyoming             0            0            0             0              0   \n",
       "\n",
       "                abortionth  abortionth  abortionwhat  ampabort  antiabort  \\\n",
       "locations                                                                   \n",
       "new york                 0           0             0         0         16   \n",
       "washington               0           0             1         0          7   \n",
       "united states            0           0             0         0          1   \n",
       "california               1           1             0         0          1   \n",
       "pennsylvania             0           0             0         0          5   \n",
       "texas                    0           0             0         0          4   \n",
       "florida                  0           0             0         0          0   \n",
       "illinois                 0           0             0         0          0   \n",
       "arizona                  0           0             0         0          0   \n",
       "virginia                 0           0             0         0          0   \n",
       "minnesota                0           0             0         0          0   \n",
       "oregon                   0           0             0         0          1   \n",
       "north carolina           0           0             0         1          0   \n",
       "indiana                  0           0             0         0          1   \n",
       "oklahoma                 0           0             0         0          0   \n",
       "new hampshire            0           0             0         0          0   \n",
       "michigan                 0           0             0         0          0   \n",
       "maine                    0           0             0         0          0   \n",
       "massachusetts            0           0             0         0          0   \n",
       "alabama                  0           0             0         0          0   \n",
       "tennessee                0           0             0         0          0   \n",
       "arkansas                 0           0             0         0          0   \n",
       "colorado                 0           0             0         0          0   \n",
       "ohio                     0           0             0         0          0   \n",
       "west virginia            0           0             0         0          0   \n",
       "montana                  0           0             0         0          0   \n",
       "alaska                   0           0             0         0          0   \n",
       "connecticut              0           0             0         0          0   \n",
       "georgia                  0           0             0         0          0   \n",
       "louisiana                0           0             0         0          0   \n",
       "idaho                    0           0             0         0          0   \n",
       "nebraska                 0           0             0         0          0   \n",
       "south dakota             0           0             0         0          0   \n",
       "wisconsin                0           0             0         0          0   \n",
       "delaware                 0           0             0         0          0   \n",
       "vermont                  0           0             0         0          0   \n",
       "utah                     0           0             0         0          0   \n",
       "hawaii                   0           0             0         0          0   \n",
       "iowa                     0           0             0         0          0   \n",
       "rhode island             0           0             0         0          0   \n",
       "south carolina           0           0             0         0          0   \n",
       "nevada                   0           0             0         0          0   \n",
       "kansas                   0           0             0         0          0   \n",
       "kentucky                 0           0             0         0          0   \n",
       "maryland                 0           0             0         0          0   \n",
       "north dakota             0           0             0         0          0   \n",
       "mississippi              0           0             0         0          0   \n",
       "missouri                 0           0             0         0          0   \n",
       "new mexico               0           0             0         0          0   \n",
       "new jersey               0           0             0         0          0   \n",
       "wyoming                  0           0             0         0          0   \n",
       "\n",
       "                antiabortionist  proabort  \n",
       "locations                                  \n",
       "new york                      1         0  \n",
       "washington                    0         0  \n",
       "united states                 0         2  \n",
       "california                    0         1  \n",
       "pennsylvania                  0         0  \n",
       "texas                         0         0  \n",
       "florida                       1         1  \n",
       "illinois                      0         0  \n",
       "arizona                       0         0  \n",
       "virginia                      0         0  \n",
       "minnesota                     0         0  \n",
       "oregon                        0         0  \n",
       "north carolina                0         0  \n",
       "indiana                       0         0  \n",
       "oklahoma                      0         0  \n",
       "new hampshire                 0         0  \n",
       "michigan                      0         0  \n",
       "maine                         0         0  \n",
       "massachusetts                 0         0  \n",
       "alabama                       0         0  \n",
       "tennessee                     0         0  \n",
       "arkansas                      0         0  \n",
       "colorado                      0         0  \n",
       "ohio                          0         0  \n",
       "west virginia                 0         0  \n",
       "montana                       0         0  \n",
       "alaska                        0         0  \n",
       "connecticut                   0         0  \n",
       "georgia                       0         0  \n",
       "louisiana                     0         0  \n",
       "idaho                         0         0  \n",
       "nebraska                      0         0  \n",
       "south dakota                  0         0  \n",
       "wisconsin                     0         0  \n",
       "delaware                      0         0  \n",
       "vermont                       0         0  \n",
       "utah                          0         0  \n",
       "hawaii                        0         0  \n",
       "iowa                          0         0  \n",
       "rhode island                  0         0  \n",
       "south carolina                0         0  \n",
       "nevada                        0         0  \n",
       "kansas                        0         0  \n",
       "kentucky                      0         0  \n",
       "maryland                      0         0  \n",
       "north dakota                  0         0  \n",
       "mississippi                   0         0  \n",
       "missouri                      0         0  \n",
       "new mexico                    0         0  \n",
       "new jersey                    0         0  \n",
       "wyoming                       0         0  "
      ]
     },
     "execution_count": 352,
     "metadata": {},
     "output_type": "execute_result"
    }
   ],
   "source": [
    "abortion_by_state"
   ]
  },
  {
   "cell_type": "code",
   "execution_count": 363,
   "id": "d2280670",
   "metadata": {},
   "outputs": [],
   "source": [
    "sum_abortion = []\n",
    "for index, row in abortion_by_state.iterrows():\n",
    "       sum_abortion.append(row.sum())"
   ]
  },
  {
   "cell_type": "code",
   "execution_count": 365,
   "id": "44f6b732",
   "metadata": {},
   "outputs": [],
   "source": [
    "abortion_by_state[\"sum_abortion\"] = sum_abortion"
   ]
  },
  {
   "cell_type": "code",
   "execution_count": 367,
   "id": "fec16374",
   "metadata": {},
   "outputs": [],
   "source": [
    "add_up = [row.sum() for index, row in abortion_by_state.iterrows() ]"
   ]
  },
  {
   "cell_type": "code",
   "execution_count": null,
   "id": "239ff1fb",
   "metadata": {},
   "outputs": [],
   "source": []
  },
  {
   "cell_type": "code",
   "execution_count": null,
   "id": "66d0e6de",
   "metadata": {},
   "outputs": [],
   "source": []
  },
  {
   "cell_type": "code",
   "execution_count": null,
   "id": "4043982f",
   "metadata": {},
   "outputs": [],
   "source": []
  }
 ],
 "metadata": {
  "kernelspec": {
   "display_name": "Python 3 (ipykernel)",
   "language": "python",
   "name": "python3"
  },
  "language_info": {
   "codemirror_mode": {
    "name": "ipython",
    "version": 3
   },
   "file_extension": ".py",
   "mimetype": "text/x-python",
   "name": "python",
   "nbconvert_exporter": "python",
   "pygments_lexer": "ipython3",
   "version": "3.9.13"
  }
 },
 "nbformat": 4,
 "nbformat_minor": 5
}
